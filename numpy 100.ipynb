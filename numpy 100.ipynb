{
 "cells": [
  {
   "cell_type": "code",
   "execution_count": 18,
   "metadata": {
    "ExecuteTime": {
     "end_time": "2020-03-02T15:12:07.588867Z",
     "start_time": "2020-03-02T15:12:07.583359Z"
    }
   },
   "outputs": [
    {
     "name": "stdout",
     "output_type": "stream",
     "text": [
      "[1. 1. 1. 1. 1. 1. 1. 1. 1. 1.]\n",
      "[[5 5 5 5]\n",
      " [5 5 5 5]]\n"
     ]
    }
   ],
   "source": [
    "import numpy as np\n",
    "print(np.ones(10))\n",
    "print(np.full((2,4),5))# np.full 构造一个大小为 shape 的用指定值填满的数组,"
   ]
  },
  {
   "cell_type": "code",
   "execution_count": 35,
   "metadata": {
    "ExecuteTime": {
     "end_time": "2020-03-02T15:16:26.437326Z",
     "start_time": "2020-03-02T15:16:26.433323Z"
    }
   },
   "outputs": [
    {
     "name": "stdout",
     "output_type": "stream",
     "text": [
      "[[0.00000000e+000 0.00000000e+000]\n",
      " [0.00000000e+000 0.00000000e+000]\n",
      " [0.00000000e+000 7.13430793e-321]\n",
      " [2.18565566e-312 8.70018274e-313]]\n",
      "8\n",
      "8\n"
     ]
    }
   ],
   "source": [
    "a=np.empty((4,2))# np.empty 构造一个大小为 shape 的未初始化数组\n",
    "print(a)\n",
    "print(a.itemsize)#每个元素占内存大小\n",
    "print(a.size)"
   ]
  },
  {
   "cell_type": "code",
   "execution_count": 36,
   "metadata": {
    "ExecuteTime": {
     "end_time": "2020-03-02T15:17:10.367504Z",
     "start_time": "2020-03-02T15:17:10.364502Z"
    }
   },
   "outputs": [
    {
     "name": "stdout",
     "output_type": "stream",
     "text": [
      "add(x1, x2, /, out=None, *, where=True, casting='same_kind', order='K', dtype=None, subok=True[, signature, extobj])\n",
      "\n",
      "Add arguments element-wise.\n",
      "\n",
      "Parameters\n",
      "----------\n",
      "x1, x2 : array_like\n",
      "    The arrays to be added. If ``x1.shape != x2.shape``, they must be broadcastable to a common shape (which becomes the shape of the output).\n",
      "out : ndarray, None, or tuple of ndarray and None, optional\n",
      "    A location into which the result is stored. If provided, it must have\n",
      "    a shape that the inputs broadcast to. If not provided or None,\n",
      "    a freshly-allocated array is returned. A tuple (possible only as a\n",
      "    keyword argument) must have length equal to the number of outputs.\n",
      "where : array_like, optional\n",
      "    This condition is broadcast over the input. At locations where the\n",
      "    condition is True, the `out` array will be set to the ufunc result.\n",
      "    Elsewhere, the `out` array will retain its original value.\n",
      "    Note that if an uninitialized `out` array is created via the default\n",
      "    ``out=None``, locations within it where the condition is False will\n",
      "    remain uninitialized.\n",
      "**kwargs\n",
      "    For other keyword-only arguments, see the\n",
      "    :ref:`ufunc docs <ufuncs.kwargs>`.\n",
      "\n",
      "Returns\n",
      "-------\n",
      "add : ndarray or scalar\n",
      "    The sum of `x1` and `x2`, element-wise.\n",
      "    This is a scalar if both `x1` and `x2` are scalars.\n",
      "\n",
      "Notes\n",
      "-----\n",
      "Equivalent to `x1` + `x2` in terms of array broadcasting.\n",
      "\n",
      "Examples\n",
      "--------\n",
      ">>> np.add(1.0, 4.0)\n",
      "5.0\n",
      ">>> x1 = np.arange(9.0).reshape((3, 3))\n",
      ">>> x2 = np.arange(3.0)\n",
      ">>> np.add(x1, x2)\n",
      "array([[  0.,   2.,   4.],\n",
      "       [  3.,   5.,   7.],\n",
      "       [  6.,   8.,  10.]])\n"
     ]
    }
   ],
   "source": [
    "np.info(np.add)"
   ]
  },
  {
   "cell_type": "code",
   "execution_count": 40,
   "metadata": {
    "ExecuteTime": {
     "end_time": "2020-03-02T15:19:06.751894Z",
     "start_time": "2020-03-02T15:19:06.746890Z"
    }
   },
   "outputs": [
    {
     "name": "stdout",
     "output_type": "stream",
     "text": [
      "[[0 1 2]\n",
      " [3 4 5]\n",
      " [6 7 8]]\n",
      "[0 1 2]\n",
      "[[ 0  2  4]\n",
      " [ 3  5  7]\n",
      " [ 6  8 10]]\n"
     ]
    }
   ],
   "source": [
    "#add用法\n",
    "a=np.arange(9).reshape((3,3))\n",
    "b=np.arange(3)\n",
    "print(a)\n",
    "print(b)\n",
    "print(np.add(a,b))"
   ]
  },
  {
   "cell_type": "code",
   "execution_count": 51,
   "metadata": {
    "ExecuteTime": {
     "end_time": "2020-03-02T15:23:04.814602Z",
     "start_time": "2020-03-02T15:23:04.811600Z"
    }
   },
   "outputs": [
    {
     "name": "stdout",
     "output_type": "stream",
     "text": [
      "[[0 2 0 0 0 0 0 0 0 0]]\n"
     ]
    }
   ],
   "source": [
    "a=np.full((1,10),0)\n",
    "a[0,1]=2\n",
    "print(a)\n"
   ]
  },
  {
   "cell_type": "code",
   "execution_count": 88,
   "metadata": {
    "ExecuteTime": {
     "end_time": "2020-03-02T16:08:49.269667Z",
     "start_time": "2020-03-02T16:08:49.263661Z"
    }
   },
   "outputs": [
    {
     "name": "stdout",
     "output_type": "stream",
     "text": [
      "[[1 1]\n",
      " [2 2]]\n",
      "1.5\n",
      "[1. 2.]\n",
      "[1.5 1.5]\n"
     ]
    }
   ],
   "source": [
    "a=np.array([[1,1],[2,2]])\n",
    "print(a)\n",
    "print(a.mean())\n",
    "print(a.mean(axis=1))\n",
    "print(a.mean(axis=0))"
   ]
  },
  {
   "cell_type": "code",
   "execution_count": 96,
   "metadata": {
    "ExecuteTime": {
     "end_time": "2020-03-02T16:14:01.391266Z",
     "start_time": "2020-03-02T16:14:01.385260Z"
    }
   },
   "outputs": [
    {
     "name": "stdout",
     "output_type": "stream",
     "text": [
      "1.5\n",
      "[1.25 1.25]\n",
      "4.0\n"
     ]
    }
   ],
   "source": [
    "#average可以计算加权\n",
    "a=np.array([[1,1],[2,2]])\n",
    "print(np.average(a))\n",
    "print(np.average(a,axis=0,weights=[3,1]))\n",
    "print(np.average(np.arange(1,11),weights=np.arange(10,0,-1)))"
   ]
  },
  {
   "cell_type": "code",
   "execution_count": 53,
   "metadata": {
    "ExecuteTime": {
     "end_time": "2020-03-04T14:52:50.832174Z",
     "start_time": "2020-03-04T14:52:50.827170Z"
    }
   },
   "outputs": [
    {
     "name": "stdout",
     "output_type": "stream",
     "text": [
      "[0 1 2 3 4 5 6 7 8 9]\n",
      "[0 1 2 3 4 5 6 7 8 9]\n",
      "[1 2 3 4 5 6 7 8 9]\n",
      "[2 1 0]\n",
      "[5 3 1]\n",
      "[9 8 7 6 5 4 3 2 1 0]\n",
      "\n",
      "\n",
      "\n",
      "[0 1 2 3 4 5 6 7]\n",
      "[0 1]\n",
      "[0 2 4 6]\n"
     ]
    }
   ],
   "source": [
    "print(np.arange(10))\n",
    "print(np.arange(10)[::1])\n",
    "print(np.arange(10)[1::1])#从第二个元素开始到最后一个\n",
    "print(np.arange(10)[2::-1])#从第三个元素开始倒序输出\n",
    "print(np.arange(10)[5::-2])#从第6个元素开始间隔一个倒序输出\n",
    "print(np.arange(10)[::-1])#倒序输出\n",
    "print('\\n\\n')\n",
    "a=np.arange(8)\n",
    "print(a)\n",
    "print(a[:2])\n",
    "print(a[0::2])"
   ]
  },
  {
   "cell_type": "code",
   "execution_count": 58,
   "metadata": {
    "ExecuteTime": {
     "end_time": "2020-03-02T15:33:45.876058Z",
     "start_time": "2020-03-02T15:33:45.873056Z"
    }
   },
   "outputs": [
    {
     "name": "stdout",
     "output_type": "stream",
     "text": [
      "(array([0, 1, 2, 3, 5], dtype=int64),)\n"
     ]
    }
   ],
   "source": [
    "print(np.nonzero([1,2,4,5,0,2]))#找出非0元素的下标"
   ]
  },
  {
   "cell_type": "code",
   "execution_count": 69,
   "metadata": {
    "ExecuteTime": {
     "end_time": "2020-03-02T15:38:36.257934Z",
     "start_time": "2020-03-02T15:38:36.252929Z"
    }
   },
   "outputs": [
    {
     "name": "stdout",
     "output_type": "stream",
     "text": [
      "[[1. 0.]\n",
      " [0. 1.]]\n",
      "[[1. 0. 0.]\n",
      " [0. 1. 0.]\n",
      " [0. 0. 1.]]\n",
      "[[0. 1. 0. 0.]\n",
      " [0. 0. 1. 0.]\n",
      " [0. 0. 0. 1.]]\n"
     ]
    }
   ],
   "source": [
    "# identity 只能创建方阵，eye要灵活一些，可以创建NxM的矩阵，也可以控制对角线的位置\n",
    "print(np.identity(2))\n",
    "print(np.eye(3))\n",
    "print(np.eye(3,4,1))"
   ]
  },
  {
   "cell_type": "code",
   "execution_count": 102,
   "metadata": {
    "ExecuteTime": {
     "end_time": "2020-03-02T16:20:37.241652Z",
     "start_time": "2020-03-02T16:20:37.236647Z"
    }
   },
   "outputs": [
    {
     "name": "stdout",
     "output_type": "stream",
     "text": [
      "[[5. 5. 5. 5. 5.]\n",
      " [5. 5. 5. 5. 5.]\n",
      " [5. 5. 5. 5. 5.]\n",
      " [5. 5. 5. 5. 5.]\n",
      " [5. 5. 5. 5. 5.]]\n",
      "[[5. 5. 5. 5. 5.]\n",
      " [5. 1. 1. 1. 5.]\n",
      " [5. 1. 0. 1. 5.]\n",
      " [5. 1. 1. 1. 5.]\n",
      " [5. 5. 5. 5. 5.]]\n"
     ]
    }
   ],
   "source": [
    "a=np.ones((5,5))*5\n",
    "print(a)\n",
    "a[1:-1,1:-1]=1\n",
    "a[2,2]=0\n",
    "print(a)"
   ]
  },
  {
   "cell_type": "code",
   "execution_count": 2,
   "metadata": {
    "ExecuteTime": {
     "end_time": "2020-03-04T14:40:18.851310Z",
     "start_time": "2020-03-04T14:40:18.848307Z"
    }
   },
   "outputs": [
    {
     "name": "stdout",
     "output_type": "stream",
     "text": [
      "[[1 1]\n",
      " [2 2]]\n",
      "[[0 0 0 0 3 3]\n",
      " [0 0 1 1 3 3]\n",
      " [0 0 2 2 3 3]\n",
      " [0 0 3 3 3 3]]\n"
     ]
    }
   ],
   "source": [
    "#填充数组\n",
    "a=np.array([[1,1],[2,2]])\n",
    "b=np.pad(a,((1,1),(2,2)),'constant',constant_values=(0,3))\n",
    "#((1,1),(2,2))表示在二维数组array第一维（此处便是行）前面填充1行，最后面填充1行；\n",
    "               #  在二维数组array第二维（此处便是列）前面填充2列，最后面填充2列\n",
    "print(a)\n",
    "print(b)"
   ]
  },
  {
   "cell_type": "code",
   "execution_count": 6,
   "metadata": {
    "ExecuteTime": {
     "end_time": "2020-03-04T14:41:41.797321Z",
     "start_time": "2020-03-04T14:41:41.793311Z"
    }
   },
   "outputs": [
    {
     "name": "stdout",
     "output_type": "stream",
     "text": [
      "[0 1 1 0 0]\n"
     ]
    }
   ],
   "source": [
    "a=np.array([1,1])\n",
    "print(np.pad(a,(1,2),'constant'))"
   ]
  },
  {
   "cell_type": "code",
   "execution_count": 29,
   "metadata": {
    "ExecuteTime": {
     "end_time": "2020-03-04T14:46:27.144915Z",
     "start_time": "2020-03-04T14:46:27.141912Z"
    }
   },
   "outputs": [
    {
     "name": "stdout",
     "output_type": "stream",
     "text": [
      "[[1 0 0 0]\n",
      " [0 2 0 0]\n",
      " [0 0 3 0]\n",
      " [0 0 0 4]]\n",
      "[[0 1 0 0 0]\n",
      " [0 0 2 0 0]\n",
      " [0 0 0 3 0]\n",
      " [0 0 0 0 4]\n",
      " [0 0 0 0 0]]\n"
     ]
    }
   ],
   "source": [
    "print(np.diag([1,2,3,4]))\n",
    "print(np.diag([1,2,3,4],1))"
   ]
  },
  {
   "cell_type": "code",
   "execution_count": 56,
   "metadata": {
    "ExecuteTime": {
     "end_time": "2020-03-04T14:54:22.449422Z",
     "start_time": "2020-03-04T14:54:22.446419Z"
    }
   },
   "outputs": [
    {
     "name": "stdout",
     "output_type": "stream",
     "text": [
      "[[0. 1. 0. 1. 0. 1. 0. 1.]\n",
      " [1. 0. 1. 0. 1. 0. 1. 0.]\n",
      " [0. 1. 0. 1. 0. 1. 0. 1.]\n",
      " [1. 0. 1. 0. 1. 0. 1. 0.]\n",
      " [0. 1. 0. 1. 0. 1. 0. 1.]\n",
      " [1. 0. 1. 0. 1. 0. 1. 0.]\n",
      " [0. 1. 0. 1. 0. 1. 0. 1.]\n",
      " [1. 0. 1. 0. 1. 0. 1. 0.]]\n"
     ]
    }
   ],
   "source": [
    "a=np.zeros((8,8))\n",
    "a[::2,1::2]=1\n",
    "a[1::2,::2]=1\n",
    "print(a)"
   ]
  },
  {
   "cell_type": "code",
   "execution_count": 60,
   "metadata": {
    "ExecuteTime": {
     "end_time": "2020-03-04T14:57:27.524112Z",
     "start_time": "2020-03-04T14:57:27.522111Z"
    }
   },
   "outputs": [
    {
     "name": "stdout",
     "output_type": "stream",
     "text": [
      "[[1 1 1 1 1 1]\n",
      " [0 0 0 0 0 0]\n",
      " [1 1 1 1 1 1]\n",
      " [0 0 0 0 0 0]]\n"
     ]
    }
   ],
   "source": [
    "a=np.array([[1,1],[0,0]])\n",
    "print(np.tile(a,(2,3)))#tile用于加倍"
   ]
  },
  {
   "cell_type": "code",
   "execution_count": 75,
   "metadata": {
    "ExecuteTime": {
     "end_time": "2020-03-04T15:09:08.613234Z",
     "start_time": "2020-03-04T15:09:08.608228Z"
    }
   },
   "outputs": [
    {
     "name": "stdout",
     "output_type": "stream",
     "text": [
      "[[47 52  5 53  9]\n",
      " [71 74  9 70 24]\n",
      " [65 70 23 71 51]\n",
      " [81 85 25 83 59]\n",
      " [60 61 10 56 28]]\n",
      "[[47 52  5 53  9]\n",
      " [71 74  9 70 24]\n",
      " [65 70 23 71 51]\n",
      " [81 85 25 83 59]\n",
      " [60 61 10 56 28]]\n"
     ]
    }
   ],
   "source": [
    "a=np.random.randint(0,9,(5,3))#大于等于0小于9\n",
    "b=np.random.randint(0,9,(3,5))\n",
    "print(a.dot(b))\n",
    "print(a@b)"
   ]
  },
  {
   "cell_type": "code",
   "execution_count": 78,
   "metadata": {
    "ExecuteTime": {
     "end_time": "2020-03-04T15:17:08.055187Z",
     "start_time": "2020-03-04T15:17:08.052185Z"
    }
   },
   "outputs": [
    {
     "name": "stdout",
     "output_type": "stream",
     "text": [
      "[ 1  2  3 -1 -1 -1 -1  8  9 10 11 12 13 14 15 16 17 18 19]\n"
     ]
    }
   ],
   "source": [
    "a=np.arange(1,20)\n",
    "a[(a>3)&(a<8)]*=-1#将这些书变为相反数\n",
    "print(a)"
   ]
  },
  {
   "cell_type": "code",
   "execution_count": 98,
   "metadata": {
    "ExecuteTime": {
     "end_time": "2020-03-04T15:22:42.579713Z",
     "start_time": "2020-03-04T15:22:42.576710Z"
    }
   },
   "outputs": [
    {
     "name": "stdout",
     "output_type": "stream",
     "text": [
      "[[0 1 2]\n",
      " [3 4 5]] \n",
      "\n",
      "[3 5 7]\n",
      "[3 5 7]\n",
      "[ 3 12]\n",
      "[ 3 12]\n"
     ]
    }
   ],
   "source": [
    "a=np.arange(6).reshape(2,3)\n",
    "print(a,'\\n')\n",
    "print(np.sum(a,0))\n",
    "print(np.sum(a,-2))\n",
    "print(np.sum(a,1))\n",
    "print(np.sum(a,-1))\n"
   ]
  },
  {
   "cell_type": "code",
   "execution_count": 115,
   "metadata": {
    "ExecuteTime": {
     "end_time": "2020-03-04T15:24:27.132088Z",
     "start_time": "2020-03-04T15:24:27.129085Z"
    }
   },
   "outputs": [
    {
     "name": "stdout",
     "output_type": "stream",
     "text": [
      "[9 7 4]\n"
     ]
    }
   ],
   "source": [
    "print(np.random.choice(10,3))#0-9选3个"
   ]
  },
  {
   "cell_type": "code",
   "execution_count": 127,
   "metadata": {
    "ExecuteTime": {
     "end_time": "2020-03-04T15:37:06.902952Z",
     "start_time": "2020-03-04T15:37:06.897947Z"
    }
   },
   "outputs": [
    {
     "name": "stdout",
     "output_type": "stream",
     "text": [
      "[-4.66243929 -1.09742786  0.18996668  5.25989352 -9.36641126  9.88360621\n",
      "  3.94627788  3.15083063 -6.02743312 -8.20708658]\n",
      "[4.66243929 1.09742786 0.18996668 5.25989352 9.36641126 9.88360621\n",
      " 3.94627788 3.15083063 6.02743312 8.20708658]\n",
      "[-4. -1.  1.  6. -9. 10.  4.  4. -6. -8.]\n",
      "[ -5.  -2.   0.   5. -10.   9.   3.   3.  -7.  -9.]\n"
     ]
    }
   ],
   "source": [
    "a=np.random.uniform(-10,10,10)#左闭右开区间取浮点数\n",
    "print(a)\n",
    "print(np.abs(a))#绝对值\n",
    "print(np.ceil(a))#向上取整\n",
    "print(np.floor(a))#向下取整\n"
   ]
  },
  {
   "cell_type": "code",
   "execution_count": 136,
   "metadata": {
    "ExecuteTime": {
     "end_time": "2020-03-04T15:42:55.987895Z",
     "start_time": "2020-03-04T15:42:55.984820Z"
    }
   },
   "outputs": [
    {
     "name": "stdout",
     "output_type": "stream",
     "text": [
      "[1 2]\n",
      "[1 2 3 4 5 6]\n",
      "[3 5]\n",
      "[3 4 5 6]\n"
     ]
    }
   ],
   "source": [
    "#查找数组的交集、并集、差、对称差,同时排序\n",
    "a=np.array([1,2,3,5])\n",
    "b=np.array([2,4,6,2,1])\n",
    "print(np.intersect1d(a,b))\n",
    "print(np.union1d(a,b))\n",
    "print(np.setdiff1d(a,b))#a中有b中没有\n",
    "print(np.setxor1d(a,b))"
   ]
  },
  {
   "cell_type": "code",
   "execution_count": null,
   "metadata": {},
   "outputs": [],
   "source": []
  }
 ],
 "metadata": {
  "kernelspec": {
   "display_name": "Python 3",
   "language": "python",
   "name": "python3"
  },
  "language_info": {
   "codemirror_mode": {
    "name": "ipython",
    "version": 3
   },
   "file_extension": ".py",
   "mimetype": "text/x-python",
   "name": "python",
   "nbconvert_exporter": "python",
   "pygments_lexer": "ipython3",
   "version": "3.7.0"
  },
  "toc": {
   "base_numbering": 1,
   "nav_menu": {},
   "number_sections": true,
   "sideBar": true,
   "skip_h1_title": false,
   "title_cell": "Table of Contents",
   "title_sidebar": "Contents",
   "toc_cell": false,
   "toc_position": {},
   "toc_section_display": true,
   "toc_window_display": false
  },
  "varInspector": {
   "cols": {
    "lenName": 16,
    "lenType": 16,
    "lenVar": 40
   },
   "kernels_config": {
    "python": {
     "delete_cmd_postfix": "",
     "delete_cmd_prefix": "del ",
     "library": "var_list.py",
     "varRefreshCmd": "print(var_dic_list())"
    },
    "r": {
     "delete_cmd_postfix": ") ",
     "delete_cmd_prefix": "rm(",
     "library": "var_list.r",
     "varRefreshCmd": "cat(var_dic_list()) "
    }
   },
   "types_to_exclude": [
    "module",
    "function",
    "builtin_function_or_method",
    "instance",
    "_Feature"
   ],
   "window_display": false
  }
 },
 "nbformat": 4,
 "nbformat_minor": 2
}
