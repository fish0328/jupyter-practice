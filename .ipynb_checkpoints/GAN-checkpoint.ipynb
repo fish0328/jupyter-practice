{
 "cells": [
  {
   "cell_type": "code",
   "execution_count": null,
   "metadata": {},
   "outputs": [],
   "source": [
    "#GAN\n",
    "import torch\n",
    "import torch.nn as nn\n",
    "import numpy as np\n",
    "import matplotlib.pyplot as plt\n",
    "\n",
    "BATCH_SIZE=64\n",
    "LR_G=0.0001             #generator生成器\n",
    "LR_D=0.0001             #discriminater判别器\n",
    "N_IDEAS=5               #think of this as number of ideas for generating an art work\n",
    "ART_COMPONENTS=15       #相当于一张画的总点数（这些点组成一幅画）\n",
    "PAINT_POINTS=np.vstack([np.linspace(-1,1,ART_COMPONENTS)for _ in range(BATCH_SIZE)])\n",
    "\n",
    "plt.plot(PAINT_POINTS[0], 2 * np.power(PAINT_POINTS[0], 2) + 1, c='#74BCFF', lw=3, label='upper bound')\n",
    "plt.plot(PAINT_POINTS[0], 1 * np.power(PAINT_POINTS[0], 2) + 0, c='#FF9359', lw=3, label='lower bound')\n",
    "plt.legend(loc='upper right')\n",
    "plt.show()\n",
    "\n",
    "def artist_works():\n",
    "    a=np.random.uniform(1,2,size=BATCH_SIZE)[:,np.newaxis]\n",
    "    paintings=a*np.power(PAINT_POINTS,2)+(a-1)\n",
    "    paintings=torch.from_numpy(paintings).float()\n",
    "    return paintings\n",
    "\n",
    "G=nn.Sequential(\n",
    "    nn.Linear(N_IDEAS,128),\n",
    "    nn.ReLU(),\n",
    "    nn.Linear(128,ART_COMPONENTS)\n",
    ")#用5个idead画一幅画\n",
    "\n",
    "D=nn.Sequential(\n",
    "    nn.Linear(ART_COMPONENTS,128),\n",
    "    nn.ReLU(),\n",
    "    nn.Linear(128,1),\n",
    "    nn.Sigmoid()\n",
    ")#输入一幅画，判断是好作品的概率\n",
    "\n",
    "opt_D=torch.optim.Adam(D.parameters(),lr=LR_D)\n",
    "opt_G=torch.optim.Adam(G.parameters(),lr=LR_G)\n",
    "\n",
    "plt.ion()\n",
    "\n",
    "for step in range(10000):\n",
    "    artist_paintings=artist_works()\n",
    "    G_ideas=torch.randn(BATCH_SIZE,N_IDEAS)#矩阵，NIDEAS列,表示random ideas\n",
    "    G_paintings=G(G_ideas)\n",
    "    \n",
    "    prob_artist0=D(artist_paintings)#artist_paintings是好作品的概率\n",
    "    prob_artist1=D(G_paintings)#G作品是好作品的概率\n",
    "    \n",
    "    D_loss=-torch.mean(torch.log(prob_artist0)+torch.log(1-prob_artist1))\n",
    "    #增加0的概率，减小1的概率，使D判断更准\n",
    "    G_loss=torch.mean(torch.log(1-prob_artist1))\n",
    "    #增加1的概率，使G生成更好的作品\n",
    "    \n",
    "    opt_D.zero_grad()\n",
    "    D_loss.backward(retain_graph=True)#保留参数给下一个反向传播\n",
    "    opt_D.step()\n",
    "    \n",
    "    opt_G.zero_grad()\n",
    "    G_loss.backward()\n",
    "    opt_G.step()\n",
    "    \n",
    "    if step % 50 == 0:  # plotting\n",
    "        plt.cla()\n",
    "        plt.plot(PAINT_POINTS[0], G_paintings.data.numpy()[0], c='#4AD631', lw=3, label='Generated painting',)\n",
    "        plt.plot(PAINT_POINTS[0], 2 * np.power(PAINT_POINTS[0], 2) + 1, c='#74BCFF', lw=3, label='upper bound')\n",
    "        plt.plot(PAINT_POINTS[0], 1 * np.power(PAINT_POINTS[0], 2) + 0, c='#FF9359', lw=3, label='lower bound')\n",
    "        plt.text(-.5, 2.3, 'D accuracy=%.2f (0.5 for D to converge)' % prob_artist0.data.numpy().mean(), fontdict={'size': 13})\n",
    "        plt.text(-.5, 2, 'D score= %.2f (-1.38 for G to converge)' % -D_loss.data.numpy(), fontdict={'size': 13})\n",
    "        plt.ylim((0, 3));plt.legend(loc='upper right', fontsize=10);plt.draw();plt.pause(0.01)\n",
    "\n",
    "plt.ioff()\n",
    "plt.show()"
   ]
  }
 ],
 "metadata": {
  "kernelspec": {
   "display_name": "Python 3",
   "language": "python",
   "name": "python3"
  },
  "language_info": {
   "codemirror_mode": {
    "name": "ipython",
    "version": 3
   },
   "file_extension": ".py",
   "mimetype": "text/x-python",
   "name": "python",
   "nbconvert_exporter": "python",
   "pygments_lexer": "ipython3",
   "version": "3.7.0"
  },
  "toc": {
   "base_numbering": 1,
   "nav_menu": {},
   "number_sections": true,
   "sideBar": true,
   "skip_h1_title": false,
   "title_cell": "Table of Contents",
   "title_sidebar": "Contents",
   "toc_cell": false,
   "toc_position": {},
   "toc_section_display": true,
   "toc_window_display": false
  },
  "varInspector": {
   "cols": {
    "lenName": 16,
    "lenType": 16,
    "lenVar": 40
   },
   "kernels_config": {
    "python": {
     "delete_cmd_postfix": "",
     "delete_cmd_prefix": "del ",
     "library": "var_list.py",
     "varRefreshCmd": "print(var_dic_list())"
    },
    "r": {
     "delete_cmd_postfix": ") ",
     "delete_cmd_prefix": "rm(",
     "library": "var_list.r",
     "varRefreshCmd": "cat(var_dic_list()) "
    }
   },
   "types_to_exclude": [
    "module",
    "function",
    "builtin_function_or_method",
    "instance",
    "_Feature"
   ],
   "window_display": false
  }
 },
 "nbformat": 4,
 "nbformat_minor": 2
}
