{
 "cells": [
  {
   "cell_type": "markdown",
   "metadata": {
    "toc": true
   },
   "source": [
    "<h1>Table of Contents<span class=\"tocSkip\"></span></h1>\n",
    "<div class=\"toc\"><ul class=\"toc-item\"></ul></div>"
   ]
  },
  {
   "cell_type": "code",
   "execution_count": 21,
   "metadata": {
    "ExecuteTime": {
     "end_time": "2020-02-27T02:37:56.074402Z",
     "start_time": "2020-02-27T02:37:56.069397Z"
    }
   },
   "outputs": [
    {
     "name": "stdout",
     "output_type": "stream",
     "text": [
      "0     1\n",
      "1     2\n",
      "2    33\n",
      "3     5\n",
      "dtype: int64\n",
      "[[ 1  2 33  5]]\n",
      "(4,)\n",
      "(1, 4)\n",
      "1\n",
      "4\n"
     ]
    }
   ],
   "source": [
    "import numpy as np\n",
    "import pandas as pd\n",
    "s=pd.Series([1,2,33,5])\n",
    "t=s[np.newaxis,:]\n",
    "print(s)\n",
    "print(t)\n",
    "print(s.shape)\n",
    "print(t.shape)\n",
    "print(t.shape[0])\n",
    "print(t.shape[1])"
   ]
  },
  {
   "cell_type": "code",
   "execution_count": 9,
   "metadata": {
    "ExecuteTime": {
     "end_time": "2020-02-27T02:34:32.670835Z",
     "start_time": "2020-02-27T02:34:32.665831Z"
    }
   },
   "outputs": [
    {
     "name": "stdout",
     "output_type": "stream",
     "text": [
      "DatetimeIndex(['2020-01-01', '2020-01-02', '2020-01-03'], dtype='datetime64[ns]', freq='D')\n",
      "DatetimeIndex(['2020-02-01', '2020-02-02'], dtype='datetime64[ns]', freq='D')\n"
     ]
    }
   ],
   "source": [
    "dates=pd.date_range('2020',periods=3)\n",
    "date2=pd.date_range('20200201',periods=2)\n",
    "print(dates)\n",
    "print(date2)"
   ]
  },
  {
   "cell_type": "code",
   "execution_count": 30,
   "metadata": {
    "ExecuteTime": {
     "end_time": "2020-02-27T02:45:05.547734Z",
     "start_time": "2020-02-27T02:45:05.539727Z"
    }
   },
   "outputs": [
    {
     "name": "stdout",
     "output_type": "stream",
     "text": [
      "                   a         b         c         d\n",
      "2020-01-01  0.523401 -1.010931 -1.548706 -0.286816\n",
      "2020-01-02  0.855307 -0.321371  0.208839 -1.589688\n",
      "2020-01-03 -1.663999 -0.304563  0.219685  0.054437\n",
      "          0         1\n",
      "0  0.738605  0.948330\n",
      "1  0.133286  0.668613\n",
      "                  1         2         33        5 \n",
      "2020-01-01 -0.512174 -1.790594 -0.298919 -1.232835\n",
      "2020-01-02 -0.036665 -0.023062  0.222873 -1.638508\n",
      "2020-01-03  0.282731 -1.579153 -0.712363  0.463910\n"
     ]
    }
   ],
   "source": [
    "df=pd.DataFrame(np.random.randn(3,4),index=dates,columns=['a','b','c','d'])\n",
    "print(df)\n",
    "df2=pd.DataFrame(np.random.random([2,2]))\n",
    "print(df2)\n",
    "df3=pd.DataFrame(np.random.randn(3,4),index=dates,columns=s)\n",
    "print(df3)"
   ]
  },
  {
   "cell_type": "code",
   "execution_count": 43,
   "metadata": {
    "ExecuteTime": {
     "end_time": "2020-02-27T03:02:45.206507Z",
     "start_time": "2020-02-27T03:02:45.202502Z"
    }
   },
   "outputs": [
    {
     "name": "stdout",
     "output_type": "stream",
     "text": [
      "2022-02-04 00:00:00\n",
      "2020-02-04 03:02:21\n",
      "2020-02-04 03:02:21\n",
      "2020-02-04 03:22:21\n",
      "2020-02-04 03:02:21\n"
     ]
    }
   ],
   "source": [
    "from datetime import datetime as dt\n",
    "p1=pd.Timestamp(2022,2,4)\n",
    "p2=pd.Timestamp(dt(2020,2,4,hour=3,minute=2,second=21))\n",
    "p3=pd.Timestamp('20200204 3:2:21')\n",
    "print(p1)\n",
    "print(p2)\n",
    "print(p3)\n",
    "p4=pd.to_datetime('2020-2-4 3:22:21')\n",
    "p5=pd.to_datetime(dt(2020,2,4,hour=3,minute=2,second=21))\n",
    "print(p4)\n",
    "print(p5)"
   ]
  },
  {
   "cell_type": "code",
   "execution_count": 40,
   "metadata": {
    "ExecuteTime": {
     "end_time": "2020-02-27T03:00:42.530623Z",
     "start_time": "2020-02-27T03:00:42.525619Z"
    }
   },
   "outputs": [
    {
     "name": "stdout",
     "output_type": "stream",
     "text": [
      "[a, b, a]\n",
      "Categories (2, object): [a, b]\n",
      "[0 1 0]\n",
      "Index(['a', 'b'], dtype='object')\n"
     ]
    }
   ],
   "source": [
    "a=pd.Categorical(['a','b','a'])\n",
    "print(a)\n",
    "print(a.codes)#index\n",
    "print(a.categories)"
   ]
  },
  {
   "cell_type": "code",
   "execution_count": 93,
   "metadata": {
    "ExecuteTime": {
     "end_time": "2020-02-27T03:26:58.172973Z",
     "start_time": "2020-02-27T03:26:58.151946Z"
    }
   },
   "outputs": [
    {
     "name": "stdout",
     "output_type": "stream",
     "text": [
      "   a                   b  c  d\n",
      "0  1 2020-02-02 03:23:11  3  q\n",
      "1  1 2020-02-02 03:23:11  3  w\n",
      "2  1 2020-02-02 03:23:11  3  e\n",
      "3  1 2020-02-02 03:23:11  3  e \n",
      "\n",
      "\n",
      "   d  c                   b  a\n",
      "0  q  3 2020-02-02 03:23:11  1\n",
      "1  w  3 2020-02-02 03:23:11  1\n",
      "2  e  3 2020-02-02 03:23:11  1\n",
      "3  e  3 2020-02-02 03:23:11  1 \n",
      "\n",
      "\n",
      "   a                   b  c  d\n",
      "3  1 2020-02-02 03:23:11  3  e\n",
      "2  1 2020-02-02 03:23:11  3  e\n",
      "1  1 2020-02-02 03:23:11  3  w\n",
      "0  1 2020-02-02 03:23:11  3  q \n",
      "\n",
      "\n",
      "   a                   b  c  d\n",
      "2  1 2020-02-02 03:23:11  3  e\n",
      "3  1 2020-02-02 03:23:11  3  e\n",
      "0  1 2020-02-02 03:23:11  3  q\n",
      "1  1 2020-02-02 03:23:11  3  w \n",
      "\n",
      "\n",
      "                     0                    1                    2  \\\n",
      "a                    1                    1                    1   \n",
      "b  2020-02-02 03:23:11  2020-02-02 03:23:11  2020-02-02 03:23:11   \n",
      "c                    3                    3                    3   \n",
      "d                    q                    w                    e   \n",
      "\n",
      "                     3  \n",
      "a                    1  \n",
      "b  2020-02-02 03:23:11  \n",
      "c                    3  \n",
      "d                    e   \n",
      "\n",
      "a             int64\n",
      "b    datetime64[ns]\n",
      "c             int64\n",
      "d          category\n",
      "dtype: object \n",
      "\n",
      "Int64Index([0, 1, 2, 3], dtype='int64') \n",
      "\n",
      "Index(['a', 'b', 'c', 'd'], dtype='object') \n",
      "\n",
      "[[1 Timestamp('2020-02-02 03:23:11') 3 'q']\n",
      " [1 Timestamp('2020-02-02 03:23:11') 3 'w']\n",
      " [1 Timestamp('2020-02-02 03:23:11') 3 'e']\n",
      " [1 Timestamp('2020-02-02 03:23:11') 3 'e']] \n",
      "\n",
      "         a    c\n",
      "count  4.0  4.0\n",
      "mean   1.0  3.0\n",
      "std    0.0  0.0\n",
      "min    1.0  3.0\n",
      "25%    1.0  3.0\n",
      "50%    1.0  3.0\n",
      "75%    1.0  3.0\n",
      "max    1.0  3.0 \n",
      "\n"
     ]
    }
   ],
   "source": [
    "df = pd.DataFrame({'a': 1,\n",
    "                   'b': pd.Timestamp('20200202 3:23:11'),\n",
    "                   'c': pd.Series(3, index=list(range(4))),\n",
    "                   'd':pd.Categorical(['q','w','e','e'])\n",
    "                   })\n",
    "print(df,'\\n\\n')\n",
    "print(df.sort_index(axis=1,ascending=False),'\\n\\n')#按行排序，从大到小\n",
    "print(df.sort_index(axis=0,ascending=False),'\\n\\n')#按列排，大到小\n",
    "print(df.sort_values(by='d'),'\\n\\n')#按d的值排序\n",
    "print(df.T,'\\n')\n",
    "print(df.dtypes,'\\n')\n",
    "print(df.index,'\\n')\n",
    "print(df.columns,'\\n')\n",
    "print(df.values,'\\n')\n",
    "print(df.describe(),'\\n')\n",
    "\n"
   ]
  },
  {
   "cell_type": "code",
   "execution_count": 106,
   "metadata": {
    "ExecuteTime": {
     "end_time": "2020-02-27T03:55:58.272166Z",
     "start_time": "2020-02-27T03:55:58.259154Z"
    }
   },
   "outputs": [
    {
     "name": "stdout",
     "output_type": "stream",
     "text": [
      "                   a         b         c\n",
      "2020-02-01 -1.742079  0.881714 -0.312737\n",
      "2020-02-02 -0.857410 -2.071825  0.342894\n",
      "2020-02-03  0.295336 -0.467539  0.115950\n",
      "2020-02-04 -0.022684  0.182499  0.161479 \n",
      "\n",
      "\n",
      "2020-02-01   -1.742079\n",
      "2020-02-02   -0.857410\n",
      "2020-02-03    0.295336\n",
      "2020-02-04   -0.022684\n",
      "Freq: D, Name: a, dtype: float64 \n",
      " 2020-02-01   -1.742079\n",
      "2020-02-02   -0.857410\n",
      "2020-02-03    0.295336\n",
      "2020-02-04   -0.022684\n",
      "Freq: D, Name: a, dtype: float64 \n",
      "\n",
      "\n",
      "                   a         b         c\n",
      "2020-02-01 -1.742079  0.881714 -0.312737\n",
      "2020-02-02 -0.857410 -2.071825  0.342894 \n",
      "                    a         b         c\n",
      "2020-02-01 -1.742079  0.881714 -0.312737\n",
      "2020-02-02 -0.857410 -2.071825  0.342894\n",
      "2020-02-03  0.295336 -0.467539  0.115950\n"
     ]
    }
   ],
   "source": [
    "dates=pd.date_range('20200201',periods=4)\n",
    "df=pd.DataFrame(np.random.randn(4,3),index=dates,columns=['a','b','c'])\n",
    "print(df,'\\n\\n')\n",
    "print(df.a,'\\n',df['a'],'\\n\\n')\n",
    "print(df[0:2],'\\n',df['20200201':'20200203'],'\\n\\n')#注意输出不一样\n"
   ]
  },
  {
   "cell_type": "code",
   "execution_count": 133,
   "metadata": {
    "ExecuteTime": {
     "end_time": "2020-02-27T04:11:20.765908Z",
     "start_time": "2020-02-27T04:11:20.751385Z"
    }
   },
   "outputs": [
    {
     "name": "stdout",
     "output_type": "stream",
     "text": [
      "                   a         b         c\n",
      "2020-02-01  0.555440  0.185157 -1.260264\n",
      "2020-02-02 -1.602825 -0.333195 -0.662183\n",
      "2020-02-03 -0.413756  0.054971  0.122875\n",
      "2020-02-04 -0.439152 -1.178810  0.174969 \n",
      "\n",
      "\n",
      "a    0.555440\n",
      "b    0.185157\n",
      "Name: 2020-02-01 00:00:00, dtype: float64 \n",
      "\n",
      "\n",
      "-0.6621829545998488 \n",
      "                    a         b\n",
      "2020-02-01  0.555440  0.185157\n",
      "2020-02-02 -1.602825 -0.333195\n",
      "2020-02-04 -0.439152 -1.178810 \n",
      "\n",
      "\n",
      "2020-02-01     True\n",
      "2020-02-02    False\n",
      "2020-02-03     True\n",
      "2020-02-04    False\n",
      "Freq: D, Name: b, dtype: bool \n",
      "\n",
      "\n",
      "                   a         b         c\n",
      "2020-02-01  0.555440  0.185157 -1.260264\n",
      "2020-02-03 -0.413756  0.054971  0.122875\n"
     ]
    }
   ],
   "source": [
    "dates=pd.date_range('20200201',periods=4)\n",
    "df=pd.DataFrame(np.random.randn(4,3),index=dates,columns=['a','b','c'])\n",
    "print(df,'\\n\\n')\n",
    "print(df.loc['20200201',['a','b']],'\\n\\n')#根据标签选\n",
    "print(df.iloc[1,2],'\\n',df.iloc[[0,1,3],0:2],'\\n\\n')#按位置选\n",
    "print(df.b>0,'\\n\\n')\n",
    "print(df[df.b>0])\n"
   ]
  },
  {
   "cell_type": "code",
   "execution_count": 156,
   "metadata": {
    "ExecuteTime": {
     "end_time": "2020-02-27T06:23:24.946095Z",
     "start_time": "2020-02-27T06:23:24.933438Z"
    }
   },
   "outputs": [
    {
     "name": "stdout",
     "output_type": "stream",
     "text": [
      "   a  b  c\n",
      "0  1  1  1\n",
      "1  2  2  2\n",
      "2  3  3  3\n",
      "3  4  4  4 \n",
      "\n",
      "\n",
      "   a  b  c\n",
      "0  1  9  1\n",
      "1  2  2  2\n",
      "2  3  3  3\n",
      "3  4  4  4 \n",
      "\n",
      "\n",
      "    a  b  c\n",
      "0   1  9  1\n",
      "1   2  2  2\n",
      "2  10  3  3\n",
      "3   4  4  4 \n",
      "\n",
      "\n",
      "   a  b  c\n",
      "0  1  9  1\n",
      "1  0  0  0\n",
      "2  0  0  0\n",
      "3  0  0  0 \n",
      "\n",
      "\n",
      "   a  b  c\n",
      "0  1  9  1\n",
      "1  0  2  2\n",
      "2  0  3  3\n",
      "3  0  4  4\n"
     ]
    }
   ],
   "source": [
    "df=pd.DataFrame([[1,1,1],[2,2,2],[3,3,3],[4,4,4]],index=list('0123'),columns=list('abc'))\n",
    "print(df,'\\n\\n')\n",
    "df.iloc[0,1]=9\n",
    "print(df,'\\n\\n')\n",
    "df.loc['2','a']=10\n",
    "print(df,'\\n\\n')\n",
    "df1=df.copy()\n",
    "df2=df.copy()\n",
    "df1[df1.a>1]=0\n",
    "df2.a[df2.a>1]=0\n",
    "print(df1,'\\n\\n')\n",
    "print(df2)\n",
    "#改变数据"
   ]
  },
  {
   "cell_type": "code",
   "execution_count": 187,
   "metadata": {
    "ExecuteTime": {
     "end_time": "2020-02-27T06:39:13.691040Z",
     "start_time": "2020-02-27T06:39:13.682527Z"
    }
   },
   "outputs": [
    {
     "name": "stdout",
     "output_type": "stream",
     "text": [
      "   a  b  c\n",
      "0  1  1  1\n",
      "1  2  2  2\n",
      "2  3  3  3\n",
      "3  4  4  4 \n",
      "\n",
      "\n",
      "   a  b  c   d\n",
      "0  1  1  1 NaN\n",
      "1  2  2  2 NaN\n",
      "2  3  3  3 NaN\n",
      "3  4  4  4 NaN \n",
      "\n",
      "\n",
      "   a  b  c   d  f\n",
      "0  1  1  1 NaN  1\n",
      "1  2  2  2 NaN  2\n",
      "2  3  3  3 NaN  3\n",
      "3  4  4  4 NaN  4 \n",
      "\n",
      "\n"
     ]
    }
   ],
   "source": [
    "df=pd.DataFrame([[1,1,1],[2,2,2],[3,3,3],[4,4,4]],index=list('0123'),columns=list('abc'))\n",
    "print(df,'\\n\\n')\n",
    "df['d']=np.nan\n",
    "print(df,'\\n\\n')\n",
    "df['f']=pd.Series([1,2,3,4],index=list('0123'))\n",
    "print(df,'\\n\\n')\n",
    "\n",
    "#添加列"
   ]
  },
  {
   "cell_type": "code",
   "execution_count": 206,
   "metadata": {
    "ExecuteTime": {
     "end_time": "2020-02-27T06:52:57.758325Z",
     "start_time": "2020-02-27T06:52:57.747315Z"
    }
   },
   "outputs": [
    {
     "name": "stdout",
     "output_type": "stream",
     "text": [
      "   a  b  c\n",
      "0  1  1  1\n",
      "1  2  2  2\n",
      "2  3  3  3\n",
      "3  4  4  4\n",
      "4  7  7  7 \n",
      "\n",
      "\n",
      "   a  b  c\n",
      "0  1  1  1\n",
      "1  2  2  2\n",
      "2  3  3  3\n",
      "3  4  4  4\n",
      "4  7  7  7\n",
      "0  8  8  8 \n",
      "\n",
      "\n",
      "   a  b  c\n",
      "0  1  1  1\n",
      "1  2  2  2\n",
      "2  3  3  3\n",
      "3  4  4  4\n",
      "4  7  7  7\n",
      "5  8  8  8\n"
     ]
    }
   ],
   "source": [
    "df=pd.DataFrame([[1,1,1],[2,2,2],[3,3,3],[4,4,4]],index=list('0123'),columns=list('abc'))\n",
    "df.loc['4']=list('777')\n",
    "print(df,'\\n\\n')\n",
    "s=pd.DataFrame([['8','8','8']],columns=list('abc'))\n",
    "s1=df.append(s)\n",
    "s2=df.append(s,ignore_index=True)\n",
    "print(s1,'\\n\\n')\n",
    "print(s2)\n",
    "#添加行"
   ]
  },
  {
   "cell_type": "code",
   "execution_count": 220,
   "metadata": {
    "ExecuteTime": {
     "end_time": "2020-02-27T07:26:06.983628Z",
     "start_time": "2020-02-27T07:26:06.944518Z"
    }
   },
   "outputs": [
    {
     "name": "stdout",
     "output_type": "stream",
     "text": [
      "   a  b  c\n",
      "0  1  1  1\n",
      "1  2  2  2\n",
      "2  3  3  3\n",
      "     a    b  c\n",
      "0  1.0  NaN  1\n",
      "1  NaN  2.0  2\n",
      "2  3.0  3.0  3 \n",
      "\n",
      "\n",
      "     a    b  c\n",
      "2  3.0  3.0  3 \n",
      "\n",
      "\n",
      "     a    b  c\n",
      "0  1.0  9.0  1\n",
      "1  9.0  2.0  2\n",
      "2  3.0  3.0  3 \n",
      "\n",
      "\n",
      "       a      b      c\n",
      "0  False   True  False\n",
      "1   True  False  False\n",
      "2  False  False  False \n",
      "\n",
      "\n",
      "True\n"
     ]
    }
   ],
   "source": [
    "#处理空数据\n",
    "df=pd.DataFrame([[1,1,1],[2,2,2],[3,3,3]],columns=list('abc'))\n",
    "print(df)\n",
    "df.iloc[0,1]=np.nan\n",
    "df.iloc[1,0]=np.nan\n",
    "print(df,'\\n\\n')\n",
    "df1=df.dropna(axis=0,how='any')#只要有空，就去掉这一行,any表示只要有空就删\n",
    "print(df1,'\\n\\n')\n",
    "df2=df.fillna(value=9)\n",
    "print(df2,'\\n\\n')\n",
    "print(df.isnull(),'\\n\\n')\n",
    "print(np.any(df.isnull())==True)\n"
   ]
  },
  {
   "cell_type": "code",
   "execution_count": 228,
   "metadata": {
    "ExecuteTime": {
     "end_time": "2020-02-27T07:31:33.443356Z",
     "start_time": "2020-02-27T07:31:33.440354Z"
    }
   },
   "outputs": [],
   "source": [
    "#导入导出数据\n",
    "a=pd.read_csv('Desktop\\GY02_status.csv')\n",
    "df.to_csv('df.csv')"
   ]
  },
  {
   "cell_type": "code",
   "execution_count": 246,
   "metadata": {
    "ExecuteTime": {
     "end_time": "2020-02-27T08:02:01.265175Z",
     "start_time": "2020-02-27T08:02:01.252155Z"
    }
   },
   "outputs": [
    {
     "name": "stdout",
     "output_type": "stream",
     "text": [
      "   1  2  3  4\n",
      "0  0  0  0  0\n",
      "1  0  0  0  0\n",
      "2  0  0  0  0\n",
      "0  1  1  1  1\n",
      "1  1  1  1  1\n",
      "2  1  1  1  1\n",
      "0  2  2  2  2\n",
      "1  2  2  2  2\n",
      "2  2  2  2  2 \n",
      "\n",
      "\n",
      "   1  2  3  4\n",
      "0  0  0  0  0\n",
      "1  0  0  0  0\n",
      "2  0  0  0  0\n",
      "3  1  1  1  1\n",
      "4  1  1  1  1\n",
      "5  1  1  1  1\n",
      "6  2  2  2  2\n",
      "7  2  2  2  2\n",
      "8  2  2  2  2 \n",
      "\n",
      "\n",
      "   1  2  3  4  1  2  3  4  1  2  3  4\n",
      "0  0  0  0  0  1  1  1  1  2  2  2  2\n",
      "1  0  0  0  0  1  1  1  1  2  2  2  2\n",
      "2  0  0  0  0  1  1  1  1  2  2  2  2 \n",
      "\n",
      "\n",
      "   0   1   2   3   4   5   6   7   8   9   10  11\n",
      "0   0   0   0   0   1   1   1   1   2   2   2   2\n",
      "1   0   0   0   0   1   1   1   1   2   2   2   2\n",
      "2   0   0   0   0   1   1   1   1   2   2   2   2\n"
     ]
    }
   ],
   "source": [
    "#数据合并concat\n",
    "df1=pd.DataFrame(np.ones((3,4),dtype=int)*0,columns=list('1234'))\n",
    "df2=pd.DataFrame(np.ones((3,4),dtype=int)*1,columns=list('1234'))\n",
    "df3=pd.DataFrame(np.ones((3,4),dtype=int)*2,columns=list('1234'))\n",
    "res=pd.concat([df1,df2,df3],axis=0)\n",
    "res1=pd.concat([df1,df2,df3],ignore_index=True)#默认是axis=0\n",
    "res2=pd.concat([df1,df2,df3],axis=1)\n",
    "res3=pd.concat([df1,df2,df3],axis=1,ignore_index=True)\n",
    "print(res,'\\n\\n')\n",
    "print(res1,'\\n\\n')\n",
    "print(res2,'\\n\\n')\n",
    "print(res3)\n",
    "\n"
   ]
  },
  {
   "cell_type": "code",
   "execution_count": 260,
   "metadata": {
    "ExecuteTime": {
     "end_time": "2020-02-27T08:11:54.528889Z",
     "start_time": "2020-02-27T08:11:54.513876Z"
    }
   },
   "outputs": [
    {
     "name": "stdout",
     "output_type": "stream",
     "text": [
      "     a  b  c  d    e\n",
      "1  0.0  0  0  0  NaN\n",
      "2  0.0  0  0  0  NaN\n",
      "3  0.0  0  0  0  NaN\n",
      "2  NaN  1  1  1  1.0\n",
      "3  NaN  1  1  1  1.0\n",
      "4  NaN  1  1  1  1.0 \n",
      "\n",
      "\n",
      "   b  c  d\n",
      "0  0  0  0\n",
      "1  0  0  0\n",
      "2  0  0  0\n",
      "3  1  1  1\n",
      "4  1  1  1\n",
      "5  1  1  1 \n",
      "\n",
      "\n",
      "     a    b    c    d    b    c    d    e\n",
      "1  0.0  0.0  0.0  0.0  NaN  NaN  NaN  NaN\n",
      "2  0.0  0.0  0.0  0.0  1.0  1.0  1.0  1.0\n",
      "3  0.0  0.0  0.0  0.0  1.0  1.0  1.0  1.0\n",
      "4  NaN  NaN  NaN  NaN  1.0  1.0  1.0  1.0 \n",
      "\n",
      "\n",
      "   a  b  c  d    b    c    d    e\n",
      "1  0  0  0  0  NaN  NaN  NaN  NaN\n",
      "2  0  0  0  0  1.0  1.0  1.0  1.0\n",
      "3  0  0  0  0  1.0  1.0  1.0  1.0 \n",
      "\n",
      "\n"
     ]
    },
    {
     "name": "stderr",
     "output_type": "stream",
     "text": [
      "D:\\Anaconda\\lib\\site-packages\\ipykernel_launcher.py:3: FutureWarning: Sorting because non-concatenation axis is not aligned. A future version\n",
      "of pandas will change to not sort by default.\n",
      "\n",
      "To accept the future behavior, pass 'sort=False'.\n",
      "\n",
      "To retain the current behavior and silence the warning, pass 'sort=True'.\n",
      "\n",
      "  This is separate from the ipykernel package so we can avoid doing imports until\n"
     ]
    }
   ],
   "source": [
    "df1=pd.DataFrame(np.ones((3,4),dtype=int)*0,columns=list('abcd'),index=[1,2,3])\n",
    "df2=pd.DataFrame(np.ones((3,4),dtype=int)*1,columns=list('bcde'),index=[2,3,4])\n",
    "res1=pd.concat([df1,df2],join='outer')#默认是outer\n",
    "res2=pd.concat([df1,df2],join='inner',ignore_index=True)\n",
    "res3=pd.concat([df1,df2],axis=1)\n",
    "res4=pd.concat([df1,df2],axis=1,join_axes=[df1.index])\n",
    "print(res1,'\\n\\n')\n",
    "print(res2,'\\n\\n')\n",
    "print(res3,'\\n\\n')\n",
    "print(res4,'\\n\\n')"
   ]
  },
  {
   "cell_type": "code",
   "execution_count": 267,
   "metadata": {
    "ExecuteTime": {
     "end_time": "2020-02-27T08:23:25.872842Z",
     "start_time": "2020-02-27T08:23:25.864833Z"
    }
   },
   "outputs": [
    {
     "name": "stdout",
     "output_type": "stream",
     "text": [
      "   a  b  c  d\n",
      "0  0  0  0  0\n",
      "1  0  0  0  0\n",
      "2  0  0  0  0\n",
      "3  1  1  1  1\n",
      "4  1  1  1  1\n",
      "5  1  1  1  1\n",
      "6  1  1  1  1\n",
      "7  1  1  1  1\n",
      "8  1  1  1  1 \n",
      "\n",
      "\n",
      "   a  b  c  d\n",
      "0  0  0  0  0\n",
      "1  0  0  0  0\n",
      "2  0  0  0  0\n",
      "3  7  7  7  7\n"
     ]
    }
   ],
   "source": [
    "#数据合并append\n",
    "df1=pd.DataFrame(np.ones((3,4),dtype=int)*0,columns=['a','b','c','d'])\n",
    "df2=pd.DataFrame(np.ones((3,4),dtype=int)*1,columns=['a','b','c','d'])\n",
    "res=df1.append([df2,df2],ignore_index=True)\n",
    "print(res,'\\n\\n')\n",
    "s1=pd.Series([7,7,7,7],index=list('abcd'))\n",
    "res2=df1.append(s1,ignore_index=True)\n",
    "print(res2)"
   ]
  },
  {
   "cell_type": "code",
   "execution_count": 16,
   "metadata": {
    "ExecuteTime": {
     "end_time": "2020-02-28T09:10:00.879245Z",
     "start_time": "2020-02-28T09:10:00.858724Z"
    }
   },
   "outputs": [
    {
     "name": "stdout",
     "output_type": "stream",
     "text": [
      "  key   A   B\n",
      "0  k0  a0  b1\n",
      "1  k1  a1  b2\n",
      "2  k2  a2  b3\n",
      "3  k3  a3  b4 \n",
      "\n",
      "\n",
      "  key   D   C\n",
      "0  k4  d0  c1\n",
      "1  k1  d1  c2\n",
      "2  k2  d2  c3\n",
      "3  k3  d3  c4 \n",
      "\n",
      "\n",
      "  key   A   B   D   C\n",
      "0  k1  a1  b2  d1  c2\n",
      "1  k2  a2  b3  d2  c3\n",
      "2  k3  a3  b4  d3  c4 \n",
      "\n",
      "\n",
      "  key    A    B    D    C\n",
      "0  k0   a0   b1  NaN  NaN\n",
      "1  k1   a1   b2   d1   c2\n",
      "2  k2   a2   b3   d2   c3\n",
      "3  k3   a3   b4   d3   c4\n",
      "4  k4  NaN  NaN   d0   c1 \n",
      "\n",
      "\n",
      "  key   A   B    D    C\n",
      "0  k0  a0  b1  NaN  NaN\n",
      "1  k1  a1  b2   d1   c2\n",
      "2  k2  a2  b3   d2   c3\n",
      "3  k3  a3  b4   d3   c4 \n",
      "\n",
      "\n",
      "  key    A    B   D   C\n",
      "0  k1   a1   b2  d1  c2\n",
      "1  k2   a2   b3  d2  c3\n",
      "2  k3   a3   b4  d3  c4\n",
      "3  k4  NaN  NaN  d0  c1 \n",
      "\n",
      "\n"
     ]
    }
   ],
   "source": [
    "#合并merge\n",
    "import pandas as pd\n",
    "import numpy as np\n",
    "a=pd.DataFrame({'key':['k0','k1','k2','k3'],'A':['a0','a1','a2','a3'],'B':['b1','b2','b3','b4']})\n",
    "b=pd.DataFrame({'key':['k4','k1','k2','k3'],'D':['d0','d1','d2','d3'],'C':['c1','c2','c3','c4']})\n",
    "print(a,'\\n\\n')\n",
    "print(b,'\\n\\n')\n",
    "res=pd.merge(a,b,on='key')#默认是inner\n",
    "res1=pd.merge(a,b,on='key',how='outer')\n",
    "res2=pd.merge(a,b,on='key',how='left')\n",
    "res3=pd.merge(a,b,on='key',how='right')\n",
    "print(res,'\\n\\n')\n",
    "print(res1,'\\n\\n')\n",
    "print(res2,'\\n\\n')\n",
    "print(res3,'\\n\\n')"
   ]
  },
  {
   "cell_type": "code",
   "execution_count": 19,
   "metadata": {
    "ExecuteTime": {
     "end_time": "2020-02-28T09:13:56.472393Z",
     "start_time": "2020-02-28T09:13:56.451312Z"
    }
   },
   "outputs": [
    {
     "name": "stdout",
     "output_type": "stream",
     "text": [
      "   col1 col_1\n",
      "0     0     a\n",
      "1     1     b \n",
      "\n",
      "\n",
      "   col1  col_2\n",
      "0     1      2\n",
      "1     2      2\n",
      "2     2      2 \n",
      "\n",
      "\n",
      "   col1 col_1  col_2      _merge\n",
      "0     0     a    NaN   left_only\n",
      "1     1     b    2.0        both\n",
      "2     2   NaN    2.0  right_only\n",
      "3     2   NaN    2.0  right_only \n",
      "\n",
      "\n",
      "   col1 col_1  col_2       hello\n",
      "0     0     a    NaN   left_only\n",
      "1     1     b    2.0        both\n",
      "2     2   NaN    2.0  right_only\n",
      "3     2   NaN    2.0  right_only\n"
     ]
    }
   ],
   "source": [
    "df1=pd.DataFrame({'col1':[0,1],'col_1':['a','b']})\n",
    "df2=pd.DataFrame({'col1':[1,2,2],'col_2':[2,2,2]})\n",
    "print(df1,'\\n\\n')\n",
    "print(df2,'\\n\\n')\n",
    "res=pd.merge(df1,df2,on='col1',how='outer',indicator=True)\n",
    "res1=pd.merge(df1,df2,on='col1',how='outer',indicator='hello')\n",
    "print(res,'\\n\\n')\n",
    "print(res1)"
   ]
  },
  {
   "cell_type": "code",
   "execution_count": 25,
   "metadata": {
    "ExecuteTime": {
     "end_time": "2020-02-28T09:18:29.835832Z",
     "start_time": "2020-02-28T09:18:29.825690Z"
    }
   },
   "outputs": [
    {
     "name": "stdout",
     "output_type": "stream",
     "text": [
      "     A   B\n",
      "k0  a0  b0\n",
      "k1  a1  b1\n",
      "k2  a2  b2 \n",
      "\n",
      "\n",
      "     C   D\n",
      "k0  c0  d0\n",
      "k2  c1  d1\n",
      "k3  c2  d2 \n",
      "\n",
      "\n",
      "      A    B    C    D\n",
      "k0   a0   b0   c0   d0\n",
      "k1   a1   b1  NaN  NaN\n",
      "k2   a2   b2   c1   d1\n",
      "k3  NaN  NaN   c2   d2 \n",
      "\n",
      "\n",
      "     A   B   C   D\n",
      "k0  a0  b0  c0  d0\n",
      "k2  a2  b2  c1  d1\n"
     ]
    }
   ],
   "source": [
    "a=pd.DataFrame({'A':['a0','a1','a2'],'B':['b0','b1','b2']},index=['k0','k1','k2'])\n",
    "b=pd.DataFrame({'C':['c0','c1','c2'],'D':['d0','d1','d2']},index=['k0','k2','k3'])\n",
    "print(a,'\\n\\n')\n",
    "print(b,'\\n\\n')\n",
    "res=pd.merge(a,b,left_index=True,right_index=True,how='outer')\n",
    "res1=pd.merge(a,b,left_index=True,right_index=True,how='inner')\n",
    "print(res,'\\n\\n')\n",
    "print(res1)"
   ]
  },
  {
   "cell_type": "code",
   "execution_count": 28,
   "metadata": {
    "ExecuteTime": {
     "end_time": "2020-02-28T09:23:22.576207Z",
     "start_time": "2020-02-28T09:23:22.566196Z"
    }
   },
   "outputs": [
    {
     "name": "stdout",
     "output_type": "stream",
     "text": [
      "    k age\n",
      "0  k0   1\n",
      "1  k1   2\n",
      "2  k2   3 \n",
      "\n",
      "\n",
      "    k  age\n",
      "0  k0    4\n",
      "1  k1    5\n",
      "2  k3    6 \n",
      "\n",
      "\n",
      "    k ageboys  age_girls\n",
      "0  k0       1          4\n",
      "1  k1       2          5\n"
     ]
    }
   ],
   "source": [
    "boys=pd.DataFrame({'k':['k0','k1','k2'],'age':['1','2','3']})\n",
    "girls=pd.DataFrame({'k':['k0','k1','k3'],'age':[4,5,6]})\n",
    "print(boys,'\\n\\n')\n",
    "print(girls,'\\n\\n')\n",
    "res=pd.merge(boys,girls,on='k',suffixes=['boys','_girls'],how='inner')\n",
    "print(res)\n",
    "#k可以输出名字相同（k），但是年龄不同的数据"
   ]
  },
  {
   "cell_type": "code",
   "execution_count": 50,
   "metadata": {
    "ExecuteTime": {
     "end_time": "2020-02-28T09:35:38.167499Z",
     "start_time": "2020-02-28T09:35:38.106076Z"
    }
   },
   "outputs": [
    {
     "name": "stdout",
     "output_type": "stream",
     "text": [
      "0   -0.150828\n",
      "1   -2.216044\n",
      "2   -3.475720\n",
      "3   -3.760112\n",
      "4   -4.714538\n",
      "dtype: float64\n"
     ]
    },
    {
     "data": {
      "image/png": "[encoded data removed]",
      "text/plain": [
       "<Figure size 432x288 with 1 Axes>"
      ]
     },
     "metadata": {
      "needs_background": "light"
     },
     "output_type": "display_data"
    }
   ],
   "source": [
    "#plot图表\n",
    "import pandas as pd\n",
    "import numpy as np\n",
    "import matplotlib.pyplot as plt\n",
    "data=pd.Series(np.random.randn(1000),index=np.arange(1000))#rand正态随机N（0，1）\n",
    "#random随机输出（0，1）\n",
    "data=data.cumsum()#叠加\n",
    "print(data.head(5))\n",
    "data.plot()\n",
    "plt.show()\n"
   ]
  },
  {
   "cell_type": "code",
   "execution_count": 56,
   "metadata": {
    "ExecuteTime": {
     "end_time": "2020-02-28T09:36:12.908809Z",
     "start_time": "2020-02-28T09:36:12.817726Z"
    }
   },
   "outputs": [
    {
     "name": "stdout",
     "output_type": "stream",
     "text": [
      "          A         B         C         D\n",
      "0 -1.142191  0.072478 -0.770019  0.036040\n",
      "1 -2.043181  0.088491 -0.614394 -1.258322\n",
      "2 -2.120406 -0.112565 -1.259919  0.202386\n"
     ]
    },
    {
     "data": {
      "image/png": "[encoded data removed]",
      "text/plain": [
       "<Figure size 432x288 with 1 Axes>"
      ]
     },
     "metadata": {
      "needs_background": "light"
     },
     "output_type": "display_data"
    }
   ],
   "source": [
    "import matplotlib.pyplot as plt\n",
    "data=pd.DataFrame(np.random.randn(1000,4),columns=list('ABCD'))\n",
    "data=data.cumsum()\n",
    "print(data.head(3))\n",
    "data.plot()\n",
    "plt.show()"
   ]
  },
  {
   "cell_type": "code",
   "execution_count": 66,
   "metadata": {
    "ExecuteTime": {
     "end_time": "2020-02-28T09:43:16.832007Z",
     "start_time": "2020-02-28T09:43:16.588483Z"
    },
    "scrolled": true
   },
   "outputs": [
    {
     "data": {
      "image/png": "[encoded data removed]",
      "text/plain": [
       "<Figure size 432x288 with 1 Axes>"
      ]
     },
     "metadata": {
      "needs_background": "light"
     },
     "output_type": "display_data"
    },
    {
     "data": {
      "image/png": "[encoded data removed]",
      "text/plain": [
       "<Figure size 432x288 with 1 Axes>"
      ]
     },
     "metadata": {
      "needs_background": "light"
     },
     "output_type": "display_data"
    },
    {
     "data": {
      "image/png": "[encoded data removed]",
      "text/plain": [
       "<Figure size 432x288 with 1 Axes>"
      ]
     },
     "metadata": {
      "needs_background": "light"
     },
     "output_type": "display_data"
    }
   ],
   "source": [
    "import matplotlib.pyplot as plt\n",
    "data=pd.DataFrame(np.random.randn(1000,4),columns=list('abcd'))\n",
    "data=data.cumsum()\n",
    "a=data.plot.scatter(x='a',y='b',color='Blue',label='Class1')\n",
    "data.plot.scatter(x='a',y='c',color='Green',label='Class2',ax=a)\n",
    "data.plot.scatter(x='a',y='c',color='Green',label='Class2')\n",
    "a=data.plot.scatter(x='a',y='b',color='Blue',label='Class1')\n",
    "plt.show()\n"
   ]
  },
  {
   "cell_type": "code",
   "execution_count": null,
   "metadata": {},
   "outputs": [],
   "source": []
  }
 ],
 "metadata": {
  "kernelspec": {
   "display_name": "Python 3",
   "language": "python",
   "name": "python3"
  },
  "language_info": {
   "codemirror_mode": {
    "name": "ipython",
    "version": 3
   },
   "file_extension": ".py",
   "mimetype": "text/x-python",
   "name": "python",
   "nbconvert_exporter": "python",
   "pygments_lexer": "ipython3",
   "version": "3.7.0"
  },
  "toc": {
   "base_numbering": 1,
   "nav_menu": {},
   "number_sections": true,
   "sideBar": true,
   "skip_h1_title": false,
   "title_cell": "Table of Contents",
   "title_sidebar": "Contents",
   "toc_cell": true,
   "toc_position": {},
   "toc_section_display": true,
   "toc_window_display": false
  },
  "varInspector": {
   "cols": {
    "lenName": 16,
    "lenType": 16,
    "lenVar": 40
   },
   "kernels_config": {
    "python": {
     "delete_cmd_postfix": "",
     "delete_cmd_prefix": "del ",
     "library": "var_list.py",
     "varRefreshCmd": "print(var_dic_list())"
    },
    "r": {
     "delete_cmd_postfix": ") ",
     "delete_cmd_prefix": "rm(",
     "library": "var_list.r",
     "varRefreshCmd": "cat(var_dic_list()) "
    }
   },
   "types_to_exclude": [
    "module",
    "function",
    "builtin_function_or_method",
    "instance",
    "_Feature"
   ],
   "window_display": false
  }
 },
 "nbformat": 4,
 "nbformat_minor": 2
}
