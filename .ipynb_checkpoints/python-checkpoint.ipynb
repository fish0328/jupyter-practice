{
 "cells": [
  {
   "cell_type": "code",
   "execution_count": 1,
   "metadata": {
    "ExecuteTime": {
     "end_time": "2020-03-01T04:45:44.336262Z",
     "start_time": "2020-03-01T04:45:44.332258Z"
    }
   },
   "outputs": [],
   "source": [
    "#pickle存放数据\n",
    "import pickle \n",
    "a_dict={'da':111,2:[22,21,1],'23':{1:2,'d':'hello'}}\n",
    "file=open('pickle_example.pickle','wb')\n",
    "pickle.dump(a_dict,file)\n",
    "file.close()\n"
   ]
  },
  {
   "cell_type": "code",
   "execution_count": 4,
   "metadata": {
    "ExecuteTime": {
     "end_time": "2020-03-01T04:47:26.247938Z",
     "start_time": "2020-03-01T04:47:26.243935Z"
    }
   },
   "outputs": [
    {
     "name": "stdout",
     "output_type": "stream",
     "text": [
      "{'da': 111, 2: [22, 21, 1], '23': {1: 2, 'd': 'hello'}}\n"
     ]
    }
   ],
   "source": [
    "file=open('pickle_example.pickle','rb')\n",
    "a_dict1=pickle.load(file)\n",
    "file.close()\n",
    "print(a_dict1)\n"
   ]
  },
  {
   "cell_type": "code",
   "execution_count": 5,
   "metadata": {
    "ExecuteTime": {
     "end_time": "2020-03-01T04:49:11.697468Z",
     "start_time": "2020-03-01T04:49:11.694473Z"
    }
   },
   "outputs": [
    {
     "name": "stdout",
     "output_type": "stream",
     "text": [
      "{'da': 111, 2: [22, 21, 1], '23': {1: 2, 'd': 'hello'}}\n"
     ]
    }
   ],
   "source": [
    "with open('pickle_example.pickle','rb')as file:\n",
    "    a_dict1=pickle.load(file)#在写入的时候也可以这样方式\n",
    "    #这种方式可以不用close\n",
    "print(a_dict1)\n"
   ]
  },
  {
   "cell_type": "code",
   "execution_count": 23,
   "metadata": {
    "ExecuteTime": {
     "end_time": "2020-03-01T05:02:42.096222Z",
     "start_time": "2020-03-01T05:02:42.093220Z"
    }
   },
   "outputs": [
    {
     "name": "stdout",
     "output_type": "stream",
     "text": [
      "{'a', 'c', 'b'} \n",
      "\n",
      "\n",
      "{'o', 'd', 'g', 'e', 'l', 'i', 't', 'K', 'm', 'E', 'c', 'W', ' ', 'r', 'n', 'T'} \n",
      "\n",
      "\n",
      "{'x', 'a', 'c', 'b'} \n",
      "\n",
      "\n",
      "None \n",
      "\n",
      "\n",
      "None \n",
      "\n",
      "\n",
      "{'a', 'c', 'b'} \n",
      "\n",
      "\n",
      "set() \n",
      "\n",
      "\n"
     ]
    }
   ],
   "source": [
    "#set去除重复\n",
    "char_list=['a','a','b','b','c']\n",
    "print(set(char_list),'\\n\\n')\n",
    "\n",
    "sentence='Welcome To Electric Kingdom'#会保留空格和大小写\n",
    "print(set(sentence),'\\n\\n')\n",
    "\n",
    "s=set(char_list)\n",
    "s.add('x')#不能加list，只能单独加\n",
    "print(s,'\\n\\n')\n",
    "print(s.remove('x'),'\\n\\n')#返回值是none,remove不存在会报错\n",
    "print(s.discard('y'),'\\n\\n')#类似remove，但是discard不存在也不会报错\n",
    "print(s,'\\n\\n')\n",
    "\n",
    "s.clear()#清空\n",
    "print(s,'\\n\\n')\n",
    "\n"
   ]
  },
  {
   "cell_type": "code",
   "execution_count": 30,
   "metadata": {
    "ExecuteTime": {
     "end_time": "2020-03-01T05:07:16.954103Z",
     "start_time": "2020-03-01T05:07:16.951108Z"
    }
   },
   "outputs": [
    {
     "name": "stdout",
     "output_type": "stream",
     "text": [
      "{'c', 'd', 'b'}\n",
      "{'a'}\n"
     ]
    }
   ],
   "source": [
    "set1=['a','a','b','c','d']\n",
    "set2=['a','e','f']\n",
    "s=set(set1)\n",
    "print(s.difference(set2))#s1中和s2不同的东西\n",
    "print(s.intersection(set2))#s1和s2交集"
   ]
  },
  {
   "cell_type": "code",
   "execution_count": null,
   "metadata": {},
   "outputs": [],
   "source": []
  }
 ],
 "metadata": {
  "kernelspec": {
   "display_name": "Python 3",
   "language": "python",
   "name": "python3"
  },
  "language_info": {
   "codemirror_mode": {
    "name": "ipython",
    "version": 3
   },
   "file_extension": ".py",
   "mimetype": "text/x-python",
   "name": "python",
   "nbconvert_exporter": "python",
   "pygments_lexer": "ipython3",
   "version": "3.7.0"
  },
  "toc": {
   "base_numbering": 1,
   "nav_menu": {},
   "number_sections": true,
   "sideBar": true,
   "skip_h1_title": false,
   "title_cell": "Table of Contents",
   "title_sidebar": "Contents",
   "toc_cell": false,
   "toc_position": {},
   "toc_section_display": true,
   "toc_window_display": false
  },
  "varInspector": {
   "cols": {
    "lenName": 16,
    "lenType": 16,
    "lenVar": 40
   },
   "kernels_config": {
    "python": {
     "delete_cmd_postfix": "",
     "delete_cmd_prefix": "del ",
     "library": "var_list.py",
     "varRefreshCmd": "print(var_dic_list())"
    },
    "r": {
     "delete_cmd_postfix": ") ",
     "delete_cmd_prefix": "rm(",
     "library": "var_list.r",
     "varRefreshCmd": "cat(var_dic_list()) "
    }
   },
   "types_to_exclude": [
    "module",
    "function",
    "builtin_function_or_method",
    "instance",
    "_Feature"
   ],
   "window_display": false
  }
 },
 "nbformat": 4,
 "nbformat_minor": 2
}
