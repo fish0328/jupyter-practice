{
 "cells": [
  {
   "cell_type": "code",
   "execution_count": 92,
   "metadata": {
    "ExecuteTime": {
     "end_time": "2020-02-26T10:18:32.605688Z",
     "start_time": "2020-02-26T10:18:32.601690Z"
    }
   },
   "outputs": [
    {
     "name": "stdout",
     "output_type": "stream",
     "text": [
      "[[0.13344678 0.57756632 0.28118735]\n",
      " [0.8290783  0.21636232 0.86176669]]\n",
      "[[0.33868632 0.6114279  0.68115954]\n",
      " [0.71210534 0.18355099 0.57866566]]\n",
      "[[0.71210534 0.18355099 0.57866566]\n",
      " [0.33868632 0.6114279  0.68115954]]\n",
      "[0.57756632 0.86176669]\n"
     ]
    }
   ],
   "source": [
    "import numpy as np\n",
    "import random\n",
    "a=np.random.rand(2,3)\n",
    "b=np.random.random([2,3])\n",
    "print(a)\n",
    "print(b)\n",
    "np.random.shuffle(b)#上下打乱\n",
    "print(b)\n",
    "print(a.max(axis=1))"
   ]
  },
  {
   "cell_type": "code",
   "execution_count": 102,
   "metadata": {
    "ExecuteTime": {
     "end_time": "2020-02-26T10:22:39.567585Z",
     "start_time": "2020-02-26T10:22:39.564583Z"
    }
   },
   "outputs": [
    {
     "name": "stdout",
     "output_type": "stream",
     "text": [
      "[ 2  3  4  5  6  7  8  9 10]\n",
      "2\n",
      "3\n",
      "4\n",
      "5\n",
      "6\n",
      "7\n",
      "8\n",
      "9\n",
      "10\n"
     ]
    }
   ],
   "source": [
    "A=np.arange(2,11).reshape([3,3])\n",
    "b=A.flatten()#函数\n",
    "print(b)\n",
    "for i in A.flat:#迭代器\n",
    "    print(i)\n",
    "\n"
   ]
  },
  {
   "cell_type": "code",
   "execution_count": 73,
   "metadata": {
    "ExecuteTime": {
     "end_time": "2020-02-26T10:10:15.879652Z",
     "start_time": "2020-02-26T10:10:15.875735Z"
    }
   },
   "outputs": [
    {
     "name": "stdout",
     "output_type": "stream",
     "text": [
      "[[1 1 1]\n",
      " [2 2 2]]\n",
      "(2, 3)\n",
      "[1 1 1 2 2 2]\n",
      "(6,)\n"
     ]
    }
   ],
   "source": [
    "#合并\n",
    "a=np.array([1,1,1])\n",
    "b=np.array([2,2,2])\n",
    "c=np.vstack((a,b))#vertical竖直的\n",
    "d=np.hstack((a,b))#horizontal水平的\n",
    "print(c)\n",
    "print(c.shape)\n",
    "print(d)\n",
    "print(d.shape)"
   ]
  },
  {
   "cell_type": "code",
   "execution_count": 107,
   "metadata": {
    "ExecuteTime": {
     "end_time": "2020-02-26T10:25:10.633161Z",
     "start_time": "2020-02-26T10:25:10.629166Z"
    }
   },
   "outputs": [
    {
     "name": "stdout",
     "output_type": "stream",
     "text": [
      "[[1]\n",
      " [1]\n",
      " [1]]\n",
      "(3, 1)\n",
      "[[1 1 1]]\n",
      "(1, 3)\n"
     ]
    }
   ],
   "source": [
    "a=np.array([1,1,1])\n",
    "b=a[:,np.newaxis]#添加新的维度\n",
    "c=a[np.newaxis,:]\n",
    "print(b)\n",
    "print(b.shape)\n",
    "print(c)\n",
    "print(c.shape)"
   ]
  },
  {
   "cell_type": "code",
   "execution_count": 76,
   "metadata": {
    "ExecuteTime": {
     "end_time": "2020-02-26T10:11:22.313746Z",
     "start_time": "2020-02-26T10:11:22.310743Z"
    }
   },
   "outputs": [
    {
     "name": "stdout",
     "output_type": "stream",
     "text": [
      "[[1]\n",
      " [1]\n",
      " [1]\n",
      " [2]\n",
      " [2]\n",
      " [2]]\n",
      "(6, 1)\n",
      "[[1 2]\n",
      " [1 2]\n",
      " [1 2]]\n",
      "(3, 2)\n"
     ]
    }
   ],
   "source": [
    "a=np.array([1,1,1])[:,np.newaxis,]#添加列\n",
    "b=np.array([2,2,2])[:,np.newaxis,]\n",
    "c=np.vstack((a,b))\n",
    "d=np.hstack((a,b))\n",
    "print(c)\n",
    "print(c.shape)\n",
    "print(d)\n",
    "print(d.shape)"
   ]
  },
  {
   "cell_type": "code",
   "execution_count": 5,
   "metadata": {
    "ExecuteTime": {
     "end_time": "2020-03-04T15:12:38.309420Z",
     "start_time": "2020-03-04T15:12:38.306417Z"
    }
   },
   "outputs": [
    {
     "name": "stdout",
     "output_type": "stream",
     "text": [
      "[[1]\n",
      " [1]\n",
      " [1]]\n",
      "[[2]\n",
      " [2]\n",
      " [2]]\n",
      "\n",
      "\n",
      "[[1 1 2]\n",
      " [1 1 2]\n",
      " [1 1 2]]\n",
      "[[1]\n",
      " [1]\n",
      " [1]\n",
      " [2]\n",
      " [2]\n",
      " [2]]\n"
     ]
    }
   ],
   "source": [
    "a=np.array([1,1,1])[:,np.newaxis,]#添加列\n",
    "b=np.array([2,2,2])[:,np.newaxis,]\n",
    "print(a)\n",
    "print(b)\n",
    "print('\\n')\n",
    "\n",
    "c=np.concatenate((a,a,b),axis=1)#h横着加\n",
    "d=np.concatenate((a,b),axis=0)#竖着加\n",
    "print(c)\n",
    "print(d)"
   ]
  },
  {
   "cell_type": "code",
   "execution_count": 6,
   "metadata": {
    "ExecuteTime": {
     "end_time": "2020-03-04T15:13:11.127669Z",
     "start_time": "2020-03-04T15:13:11.123666Z"
    }
   },
   "outputs": [
    {
     "name": "stdout",
     "output_type": "stream",
     "text": [
      "[[ 0  1  2  3]\n",
      " [ 4  5  6  7]\n",
      " [ 8  9 10 11]]\n",
      "[array([[0, 1, 2, 3]]), array([[4, 5, 6, 7]]), array([[ 8,  9, 10, 11]])]\n",
      "[[4 5 6 7]]\n",
      "\n",
      "\n",
      "\n",
      "[array([[0, 1, 2, 3]]), array([[4, 5, 6, 7]]), array([[ 8,  9, 10, 11]])]\n",
      "[array([[0, 1],\n",
      "       [4, 5],\n",
      "       [8, 9]]), array([[ 2,  3],\n",
      "       [ 6,  7],\n",
      "       [10, 11]])]\n"
     ]
    }
   ],
   "source": [
    "#分割数组\n",
    "a=np.arange(12).reshape([3,4])\n",
    "print(a)\n",
    "b=np.split(a,3)#按行分\n",
    "print(b)\n",
    "print(b[1])\n",
    "print('\\n\\n')\n",
    "print(np.vsplit(a,3))#竖直\n",
    "print(np.hsplit(a,2))#水平"
   ]
  },
  {
   "cell_type": "code",
   "execution_count": 124,
   "metadata": {
    "ExecuteTime": {
     "end_time": "2020-02-26T10:42:32.651050Z",
     "start_time": "2020-02-26T10:42:32.648048Z"
    }
   },
   "outputs": [
    {
     "name": "stdout",
     "output_type": "stream",
     "text": [
      "[0 1 2 3]\n",
      "[11  1  2  3]\n",
      "[11  1  2  3]\n",
      "[0 1 2 3]\n"
     ]
    }
   ],
   "source": [
    "#值传递\n",
    "a=np.arange(4)\n",
    "b=a\n",
    "c=a.copy()\n",
    "print(a)\n",
    "a[0]=11\n",
    "print(a)\n",
    "print(b)\n",
    "print(c)"
   ]
  },
  {
   "cell_type": "code",
   "execution_count": null,
   "metadata": {},
   "outputs": [],
   "source": []
  }
 ],
 "metadata": {
  "kernelspec": {
   "display_name": "Python 3",
   "language": "python",
   "name": "python3"
  },
  "language_info": {
   "codemirror_mode": {
    "name": "ipython",
    "version": 3
   },
   "file_extension": ".py",
   "mimetype": "text/x-python",
   "name": "python",
   "nbconvert_exporter": "python",
   "pygments_lexer": "ipython3",
   "version": "3.7.0"
  },
  "toc": {
   "base_numbering": 1,
   "nav_menu": {},
   "number_sections": true,
   "sideBar": true,
   "skip_h1_title": false,
   "title_cell": "Table of Contents",
   "title_sidebar": "Contents",
   "toc_cell": false,
   "toc_position": {},
   "toc_section_display": true,
   "toc_window_display": false
  },
  "varInspector": {
   "cols": {
    "lenName": 16,
    "lenType": 16,
    "lenVar": 40
   },
   "kernels_config": {
    "python": {
     "delete_cmd_postfix": "",
     "delete_cmd_prefix": "del ",
     "library": "var_list.py",
     "varRefreshCmd": "print(var_dic_list())"
    },
    "r": {
     "delete_cmd_postfix": ") ",
     "delete_cmd_prefix": "rm(",
     "library": "var_list.r",
     "varRefreshCmd": "cat(var_dic_list()) "
    }
   },
   "types_to_exclude": [
    "module",
    "function",
    "builtin_function_or_method",
    "instance",
    "_Feature"
   ],
   "window_display": false
  }
 },
 "nbformat": 4,
 "nbformat_minor": 2
}
